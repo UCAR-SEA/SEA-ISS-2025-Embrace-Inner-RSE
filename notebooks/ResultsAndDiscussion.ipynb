{
 "cells": [
  {
   "cell_type": "markdown",
   "metadata": {
    "editable": true,
    "slideshow": {
     "slide_type": ""
    },
    "tags": []
   },
   "source": [
    "# Results and Discussion\n",
    "\n",
    "We are starting efforts to education Scientists on RSE practices. We are convinced it's a worthwhile thing to do, but don't have a lot of concrete results to share. These are two small things that have some informal data to share about what we are seeing.\n",
    "## What do some CTSM Scientists Do with Code they Find is Broken?\n",
    "\n",
    "When you try something in CESM and it's broken for you -- what do you do?\n",
    "(Caveat – small group, and informal survey)\n",
    " 21 votes\n",
    "Share\n",
    "- Ask someone else about it - 14 votes\n",
    "67%\n",
    "- Ask on the forums - 3 votes\n",
    "14%\n",
    "- File an issue - 2 votes\n",
    "10%\n",
    "- Fix the problem - 2 votes\n",
    "10%\n",
    "- Give up and move on - 0 votes\n",
    "0%\n",
    "\n",
    "\n",
    "## What Can we Learn from This?\n",
    "\n",
    "- Most people ask someone else\n",
    "That means we have a community to help\n",
    "This is time consuming for CESM RSE staff\n",
    "This communication usually doesn’t result in a fix coming in\n",
    "- About a quarter ask on forums or create an issue\n",
    "We may want to increase this fraction\n",
    "- A small number could fix the problem\n",
    "Shows knowledge at least for some in the group\n",
    "But, also shows in general the model is complex enough that this is hard to do\n",
    "Hence improving our testing should help all users\n",
    "- No one selected “give up and move on”\n",
    "This is good news\n",
    "\n",
    "## Rate of RSE activities for CTSM\n",
    "\n",
    "A few bits of data around our RSE work in CTSM. This mainly serves to show how limited our capacity is.\n",
    "Very little of the budget of CESM is spent on SE's only about 3%. This is woefully too small.\n",
    "- In TSS in CGD NSF-NCAR 2 of 16 have a title of SE (12%)\n",
    "- Since 2013 we make 40-60 tags per year (once a week) – increasing this by being more focused\n",
    "- Added b4b-dev to bring in smaller changes every 2-weeks\n",
    "\n",
    "- 0 2024 we opened 190 issues, and closed 261 (3 per tag)\n",
    "- 2024 we closed 213 Pull Requests (oldest 6 years old)\n",
    "- We have 43 open Pull Requests in CTSM right now (oldest 6 years old)\n",
    "\n",
    "## Scientific Functional Testing for Smaller Parts of the Code\n",
    "\n",
    "“- Off-offline” testing\n",
    "- Test small, isolated pieces of the model\n",
    "- Validate internal model behavior before running full-scale runs\n",
    "\n",
    "\n",
    "When we think of 'offline' testing, we often mean running a full model simulation outside of production. But what if we could go even further—testing small, isolated pieces of the model before running full simulations? That’s what I mean by 'Off-Off-line' testing: a way to validate model behavior in a lightweight, flexible, and qualitative manner before committing to full-scale runs.\n",
    "\n",
    "## Questions we want to figure out in the future\n",
    "\n",
    "- What other ways are there to encourage scientists working on code to improve their development practices?\n",
    "- How do you survey code contributors?\n",
    "on their practices?\n",
    "- How do you measure success?\n",
    "\n",
    "# Conclusion\n",
    "\n",
    "Without enough resources for RSE efforts in CESM, we are finding we need to collaborate more closely with CTSM Scientists who are also making changes to the code. We are experimenting with doing some education for them in order to help them use RSE best practices in their work. The goal is to accelerate the work scientists using CTSM do in the code which in turn accelerates the science of CTSM and CESM. We think, this closer collaboration, and bringing in more best practices from the RSE world for both Scientists and RSE's, will enable CTSM to be more: robust, reproducible, flexible, and with more solidly vetted science for correctness.\n"
   ]
  }
 ],
 "metadata": {
  "kernelspec": {
   "display_name": "Python 3 (ipykernel)",
   "language": "python",
   "name": "python3"
  },
  "language_info": {
   "codemirror_mode": {
    "name": "ipython",
    "version": 3
   },
   "file_extension": ".py",
   "mimetype": "text/x-python",
   "name": "python",
   "nbconvert_exporter": "python",
   "pygments_lexer": "ipython3",
   "version": "3.10.13"
  }
 },
 "nbformat": 4,
 "nbformat_minor": 4
}
