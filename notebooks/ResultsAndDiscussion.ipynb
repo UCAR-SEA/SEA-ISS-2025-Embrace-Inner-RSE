{
 "cells": [
  {
   "cell_type": "markdown",
   "metadata": {
    "editable": true,
    "slideshow": {
     "slide_type": ""
    },
    "tags": []
   },
   "source": [
    "# Results and Discussion\n",
    "\n",
    "We are beginning efforts to educate scientists on RSE practices. We are convinced it is worthwhile, but we do not have many concrete results to share yet. Here are two small examples with some informal data about what we are seeing.\n",
    "\n",
    "## What Do Some CTSM Scientists Do with Code They Find is Broken?\n",
    "\n",
    "When you try something in CESM and it's broken for you -- what do you do?\n",
    "(Caveat – small group, and informal survey)\n",
    " 21 votes\n",
    "Share\n",
    "- Ask someone else about it - 14 votes\n",
    "67%\n",
    "- Ask on the forums - 3 votes\n",
    "14%\n",
    "- File an issue - 2 votes\n",
    "10%\n",
    "- Fix the problem - 2 votes\n",
    "10%\n",
    "- Give up and move on - 0 votes\n",
    "0%\n",
    "\n",
    "\n",
    "## What Can we Learn from This?\n",
    "\n",
    "- Most people ask someone else.\n",
    "That means we have a community to help, but this is time consuming for CESM RSE staff.\n",
    "This kind of communication usually does not result in a fix being implemented.\n",
    "- About a quarter ask on forums or create an issue.\n",
    "We may want to increase this percentage.\n",
    "- A small number could fix the problem.\n",
    "This shows that at least some in the group have the necessary knowledge. However, it also indicates that the model is generally complex enough that fixing problems is difficult\n",
    "Therefore, improving our testing should help all users.\n",
    "- No one selected “give up and move on”.\n",
    "This is good news.\n",
    "\n",
    "## Rate of RSE activities for CTSM\n",
    "\n",
    "A few bits of data around our RSE work in CTSM. This mainly serves to show how limited our capacity is.\n",
    "Very little of the CESM budget is spent on SEs -- only about 3%. This is woefully too small.\n",
    "- In TSS in CGD NSF-NCAR 2 of 16 have a title of SE (12%)\n",
    "- Since 2013 we make 40-60 tags per year (once a week) – increasing this by being more focused\n",
    "- Added b4b-dev to bring in smaller changes every 2-weeks\n",
    "\n",
    "- 0 2024 we opened 190 issues and closed 261 (3 per tag)\n",
    "- 2024 we closed 213 pull requests (the oldest 6 years old)\n",
    "- We currently have 43 open pull requests in CTSM (the oldest 6 years old)\n",
    "\n",
    "## Scientific Functional Testing for Smaller Parts of the Code\n",
    "\n",
    "- \"Off-offline” testing\n",
    "- Test small, isolated pieces of the model\n",
    "- Validate internal model behavior before running full-scale runs\n",
    "\n",
    "When we think of 'offline' testing, we often mean running a full model simulation outside of production. But what if we could go even further—testing small, isolated pieces of the model before running full simulations? That is what I mean by 'off-offline' testing: a way to validate model behavior in a lightweight, flexible, and qualitative manner before committing to full-scale runs.\n",
    "\n",
    "## Questions we want to figure out in the future\n",
    "\n",
    "- What other ways are there to encourage scientists working on code to improve their development practices?\n",
    "- What are the best ways to survey code contributors on their practices?\n",
    "- How do we measure success?\n",
    "\n",
    "# Conclusion\n",
    "\n",
    "Without enough resources for RSE efforts in CESM, we find we need to collaborate more closely with CTSM scientists who are also making changes to the code. We are experimenting with educational efforts to help them use RSE best practices in their work. The goal is to accelerate the work scientists do in CTSM code, which in turn accelerates the science of CTSM and CESM. We believe that closer collaboration and the adoption of more best practices from the RSE world, by both scientists and RSEs, will enable CTSM to be more robust, reproducible, flexible, and scientifically sound."
   ]
  }
 ],
 "metadata": {
  "kernelspec": {
   "display_name": "Python 3 (ipykernel)",
   "language": "python",
   "name": "python3"
  },
  "language_info": {
   "codemirror_mode": {
    "name": "ipython",
    "version": 3
   },
   "file_extension": ".py",
   "mimetype": "text/x-python",
   "name": "python",
   "nbconvert_exporter": "python",
   "pygments_lexer": "ipython3",
   "version": "3.10.13"
  }
 },
 "nbformat": 4,
 "nbformat_minor": 4
}
