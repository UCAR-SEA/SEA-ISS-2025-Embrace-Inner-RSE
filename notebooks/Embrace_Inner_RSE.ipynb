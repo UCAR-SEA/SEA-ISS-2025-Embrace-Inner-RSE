{
 "cells": [
  {
   "cell_type": "markdown",
   "metadata": {},
   "source": [
    "<img src=\"https://creative.lbl.gov/wp-content/uploads/sites/3/2020/07/6_BL_Horiz_Rev_rgb.png\"\n",
    "     width=\"500px\"\n",
    "     alt=\"LBL logo\"\n",
    "     style=\"vertical-align:middle\"/>\n",
    "\n",
    "\n",

# Helping Scientists Embrace their Inner Research Software Engineer (RSE) and Working Together with the Community Earth System Model (CESM) RSE's to improve CESM Science

## From a Land Component Model (CTSM) Perspective (CTSM is the (Community Terrestrial System Model)
### And CTSM SE Team: Adrianna Foster, Greg Lemieux, Ryan Knox, Sam Levis, Sam Rabin, Will Wieder

**Author:** [Erik Kluzek](mailto:erik@ucar.edu)
**Keywords:** Research-Software-Engineering, Software-Devolopment-Methods, CESM, CTSM, Earth-System-Model, Land-Model

# Abstract:

The Community Earth System Model (CESM) is science expressed in Software, which means everyone who touches CESM code to work on the science -- is doing RSE work. There is a list of challenges that CESM RSE’s have with both bringing in new science for CESM and ensuring CESM is well tested, robust, flexible as well as having the correct science. As such CESM Scientists working in CESM code need to work alongside CESM RSE’s to adopt RSE practices while their science is being developed. For CESM to be useful for scientists it needs to be: well-tested, robust, reproducible, flexible and have assurance that the science is implemented correctly. This is needed both for the science and the software of CESM. Helping  scientists embrace their inner RSE is an effort to keep CESM as a leading model in Earth System Science research, by having more people who work with the CESM code adopt good coding practices. In this talk I will specifically talk about RSE practices for the Land Model component of CESM, the Community Terrestrial Science Mode (CTSM)l. I will present on the RSE challenges we have in CTSM and how to solve them we need to involve and educate CTSM scientists to improve our RSE practices. I will also present regarding the CTSM RSE team’s efforts to educate the scientists and on some improvements to our RSE practices that we’ve been implementing on our CTSM Software Development.

```{figure} ../assets/Inner_RSE.png
name: Embrace Inner RSE figure

Embrace Your Inner Research Software Engineer
```

# Introduction

## Problem Statement

Scientists contribute a substantial amount of code – untrained in RSE practices
Scientists need to concentrate on their science
Encourage better Software Development practices from everyone
Increasing collaboration between RSE’s and code contributors
Part of this talk is from a presentation to our scientists
This is our story of adding lines of collaboration
CTSM Code
Bad code/ Bad RSE practices result in science problems. 

## What is CTSM – and Why Should Scientists Care about the Code?

CTSM is Science – expressed in Software
Therefore if you touch any CTSM code – you are an RSE!
Bad software practices also kill our science
Clean software and software development practices makes CTSM Science: 
- Easier
- Flexible
- Robust
- Verifiable
- Correct
- Reproducible

# Methods

# How do we Encourage Scientists to improve Coding Practices?

Help them to see that poor code impacts the science


When problems come up examine the causes and how to prevent
Point out the missing practices that could’ve helped
Point out the cost of having poor practices and how that’s greater than cost of practices

# How do we Encourage Scientists to improve Coding Practices?  Part 2

Make sure RSE work is recognized as critical to model development

Recognition in scientific papers / team awards
Leadership recognizes the importance of RSE work
RSE’s celebrated and treated well and not “less than” scientists

# How do we Encourage Scientists to improve Coding Practices?
Educate them on the most important practices

RSE team actively doing and experts in the practices
Have education resources available (tutorials, documentation etc.)
Use metaphors and non-technical terms
Encourage people that try and provide help
Education on the practices needs to continue to be done
Introduce one practice at a time
Make most important things easy

# What Does NOT Work in a Community Model?

Demanding – “you must do ____”
Expecting – “you should know ____”
Shaming – “(condescendingly) I told you so – you should have done ____”
Technical – “Read this textbook on Software Development Methodology”
Claiming – “We HAVE to be exactly like the SE Industry”
Academic – “Read and digest this study on what it shows”
Overwhelm – “Do ALL of these 10 things at once”
No relevance – “Do these RSE things – forget about the science”
Wishing – “Maybe someone will do this on their own”

# Summary: What Does Work in a Community Model?


Demonstrate costs for bad practices
Demonstrate practices
Educate on practices
Work with people with the highest interests in RSE work

# What Makes Doing RSE Tasks Hard?

What can we learn from the SE industry?
Debugging is the MOST expensive thing we do
Inherently intractable
Not possible to estimate
Further along in development the more expensive it is
Brittle, poorly designed, poorly tested code keeps you constantly debugging

# CTSM SE Team Problems Debugging Poor Code

Own example: 83 tasks over 2 years, 50% debugging
CTSM-SE Team: Sporadic, but 20% ish…
Identify problems with the code
Refactor to improve code:
Commonly changed
Problematic enough

# What Practices does the SE Industry Show Helps?

As such SE Industry and Research has found the following practices help:
Figure out what the software needs to do REQUIREMENTS
(neither too much or too little)
Spend effort into DESIGN of the code itself
Add automated TESTING WHILE you develop

# RSE Maxim to Live By

Untested Code – IS broken (or will get broken)
So…
Don’t add untested code
Do testing and add testing to test suites
Continue to run test suites


# What do some CTSM Scientists Do with Code they Find is Broken?

When you try something in CESM and it's broken for you -- what do you do?
(Caveat – small group, and informal survey)
 21 votes
Share
Ask someone else about it - 14 votes
67%
Ask on the forums - 3 votes
14%
File an issue - 2 votes
10%
Fix the problem - 2 votes
10%
Give up and move on - 0 votes
0%


# What Can we Learn from This?

Most people ask someone else
That means we have a community to help
This is time consuming for CESM RSE staff
This communication usually doesn’t result in a fix coming in
About a quarter ask on forums or create an issue
We may want to increase this fraction
A small number could fix the problem
Shows knowledge at least for some in the group
But, also shows in general the model is complex enough that this is hard to do
Hence improving our testing should help all users
No one selected “give up and move on”
This is good news

# List of RSE Suggestions

- Small circle JuJitsu (small cycles)
- Trim the fat (requirements)
- Draw the building (design code changes before starting)
- Preserve success (git version control)
- Practice vulnerability (openly share code/issues)
- Trust but verify – test AS you go (Test Driven Development TDD)
- Improve design as you go (refactoring)

# Small circle JuJitsu (small cycles)

Software Development Methodologies are based around the following steps:
1. Requirements (what does it need to do)
1. Design (figure out what the code should look like)
1. Implement (actually do coding)
1. Test (verify that the code is correct)
1. Deploy (Finish it and give to others)
1. Refactor (Improve design – just for ASD)

Waterfall Software Development:  is one extreme with one monolithic pass
Agile Software Development: is at the other with continually doing small cycles of the above

# Trim the fat (requirements)

Before starting a development cycle 
Figure out exactly what you need to do for this cycle
Make sure you don’t do too much
Or too little
Stick to it later – helps avoid scope creep

# Draw the building (design code changes before starting)

Think about the CTSM code and how your changes come in
Go for clean interfaces that ideally isolate the changes and logic in a modular fashion
Use helper functions to reduce code duplication

# Preserve success (git version control)

Follow advice on CTSM github wiki pages
Start from last minor version release tag (ctsm5.3.021)
Commit your changes as you show they work
This allows you to go back to a working version
Allows us to integrate your changes in easier

# Practice Vulnerability (openly share code/issues)

Who has been embarrassed to share code you’ve worked on?
Have others review your code
Best way to improve
Code is a shared resource the team is responsible for
Bugs are a shared problem as well

# Trust but verify – test AS you go (Test Driven Development)

Develop tests first
Show they fail and then PASS as you implement the update
Adrianna Foster is using functional testing for science she
Is calling “off offline testing”. Plot results from a science procedure



# Improve design as you go (refactoring)

With sufficient testing in place you can improve the design as you go
Improve the design to make it easier to bring in your new code
Improve the design to get rid of brittle code causing problems
Refactoring means improving the code design – without changing answers

# Questions we want to figure out in the future

My questions for you:
How do you encourage scientists working on code to improve their development practices?
How do you survey code contributors
on their practices?
How do you measure success?

# Rate of RSE activities for CTSM

What percentage of CESM should be spent on RSE work? What percent is?
In TSS in CGD NSF-NCAR 2 of 16 have a title of SE (12%)
Since 2013 we make 40-60 tags per year (once a week) – increasing this by being more focused
Added b4b-dev to bring in smaller changes every 2-weeks

2024 we opened 190 issues, and closed 261 (3 per tag)
2024 we closed 213 Pull Requests (oldest 6 years old)
We have 43 open Pull Requests in CTSM right now (oldest 6 years old)


“Off-offline” testing
Test small, isolated pieces of the model
Validate internal model behavior before running full-scale runs


When we think of 'offline' testing, we often mean running a full model simulation outside of production. But what if we could go even further—testing small, isolated pieces of the model before running full simulations? That’s what I mean by 'Off-Off-line' testing: a way to validate model behavior in a lightweight, flexible, and qualitative manner before committing to full-scale runs.

26

Testing leaf-level photosynthesis
27

Testing leaf-level photosynthesis

# Conclusion

  ]
  },
  {
   "cell_type": "code",
   "execution_count": null,
   "metadata": {},
   "outputs": [],
   "source": []
  }
 ],
 "metadata": {
  "kernelspec": {
   "display_name": "Python 3 (ipykernel)",
   "language": "python",
   "name": "python3"
  },
  "language_info": {
   "codemirror_mode": {
    "name": "ipython",
    "version": 3
   },
   "file_extension": ".py",
   "mimetype": "text/x-python",
   "name": "python",
   "nbconvert_exporter": "python",
   "pygments_lexer": "ipython3",
   "version": "3.13.3"
  }
 },
 "nbformat": 4,
 "nbformat_minor": 4
}
